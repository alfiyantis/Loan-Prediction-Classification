{
 "cells": [
  {
   "cell_type": "code",
   "execution_count": 1,
   "metadata": {},
   "outputs": [],
   "source": [
    "import pandas as pd\n",
    "import numpy as np\n",
    "import matplotlib.pyplot as plt\n",
    "import seaborn as sns\n",
    "from imblearn.over_sampling import SMOTE\n",
    "from sklearn.model_selection import train_test_split, RandomizedSearchCV, GridSearchCV\n",
    "from sklearn.metrics import accuracy_score, precision_score, recall_score, roc_auc_score, f1_score, confusion_matrix\n",
    "from sklearn.neighbors import KNeighborsClassifier\n",
    "from sklearn.tree import DecisionTreeClassifier\n",
    "from sklearn.ensemble import RandomForestClassifier\n",
    "import warnings\n",
    "warnings.filterwarnings('ignore')"
   ]
  },
  {
   "cell_type": "code",
   "execution_count": 2,
   "metadata": {},
   "outputs": [
    {
     "data": {
      "text/html": [
       "<div>\n",
       "<style scoped>\n",
       "    .dataframe tbody tr th:only-of-type {\n",
       "        vertical-align: middle;\n",
       "    }\n",
       "\n",
       "    .dataframe tbody tr th {\n",
       "        vertical-align: top;\n",
       "    }\n",
       "\n",
       "    .dataframe thead th {\n",
       "        text-align: right;\n",
       "    }\n",
       "</style>\n",
       "<table border=\"1\" class=\"dataframe\">\n",
       "  <thead>\n",
       "    <tr style=\"text-align: right;\">\n",
       "      <th></th>\n",
       "      <th>Income</th>\n",
       "      <th>Age</th>\n",
       "      <th>Experience</th>\n",
       "      <th>Married/Single</th>\n",
       "      <th>Car_Ownership</th>\n",
       "      <th>CURRENT_HOUSE_YRS</th>\n",
       "      <th>Risk_Flag</th>\n",
       "      <th>ownhouse_norent_noown</th>\n",
       "      <th>ownhouse_owned</th>\n",
       "      <th>ownhouse_rented</th>\n",
       "      <th>State_Rank</th>\n",
       "      <th>Profession_Rank</th>\n",
       "    </tr>\n",
       "  </thead>\n",
       "  <tbody>\n",
       "    <tr>\n",
       "      <th>0</th>\n",
       "      <td>0.129487</td>\n",
       "      <td>0.034483</td>\n",
       "      <td>0.15</td>\n",
       "      <td>0</td>\n",
       "      <td>0</td>\n",
       "      <td>0.75</td>\n",
       "      <td>0</td>\n",
       "      <td>0</td>\n",
       "      <td>0</td>\n",
       "      <td>1</td>\n",
       "      <td>24</td>\n",
       "      <td>10</td>\n",
       "    </tr>\n",
       "    <tr>\n",
       "      <th>1</th>\n",
       "      <td>0.228713</td>\n",
       "      <td>0.948276</td>\n",
       "      <td>0.60</td>\n",
       "      <td>0</td>\n",
       "      <td>0</td>\n",
       "      <td>0.75</td>\n",
       "      <td>1</td>\n",
       "      <td>0</td>\n",
       "      <td>0</td>\n",
       "      <td>1</td>\n",
       "      <td>24</td>\n",
       "      <td>10</td>\n",
       "    </tr>\n",
       "    <tr>\n",
       "      <th>2</th>\n",
       "      <td>0.946853</td>\n",
       "      <td>0.465517</td>\n",
       "      <td>0.00</td>\n",
       "      <td>0</td>\n",
       "      <td>0</td>\n",
       "      <td>0.50</td>\n",
       "      <td>0</td>\n",
       "      <td>0</td>\n",
       "      <td>0</td>\n",
       "      <td>1</td>\n",
       "      <td>24</td>\n",
       "      <td>10</td>\n",
       "    </tr>\n",
       "    <tr>\n",
       "      <th>3</th>\n",
       "      <td>0.275715</td>\n",
       "      <td>0.206897</td>\n",
       "      <td>0.20</td>\n",
       "      <td>0</td>\n",
       "      <td>0</td>\n",
       "      <td>0.25</td>\n",
       "      <td>0</td>\n",
       "      <td>0</td>\n",
       "      <td>0</td>\n",
       "      <td>1</td>\n",
       "      <td>24</td>\n",
       "      <td>10</td>\n",
       "    </tr>\n",
       "    <tr>\n",
       "      <th>4</th>\n",
       "      <td>0.129487</td>\n",
       "      <td>0.034483</td>\n",
       "      <td>0.15</td>\n",
       "      <td>0</td>\n",
       "      <td>0</td>\n",
       "      <td>0.75</td>\n",
       "      <td>0</td>\n",
       "      <td>0</td>\n",
       "      <td>0</td>\n",
       "      <td>1</td>\n",
       "      <td>24</td>\n",
       "      <td>10</td>\n",
       "    </tr>\n",
       "  </tbody>\n",
       "</table>\n",
       "</div>"
      ],
      "text/plain": [
       "     Income       Age  Experience  Married/Single  Car_Ownership  \\\n",
       "0  0.129487  0.034483        0.15               0              0   \n",
       "1  0.228713  0.948276        0.60               0              0   \n",
       "2  0.946853  0.465517        0.00               0              0   \n",
       "3  0.275715  0.206897        0.20               0              0   \n",
       "4  0.129487  0.034483        0.15               0              0   \n",
       "\n",
       "   CURRENT_HOUSE_YRS  Risk_Flag  ownhouse_norent_noown  ownhouse_owned  \\\n",
       "0               0.75          0                      0               0   \n",
       "1               0.75          1                      0               0   \n",
       "2               0.50          0                      0               0   \n",
       "3               0.25          0                      0               0   \n",
       "4               0.75          0                      0               0   \n",
       "\n",
       "   ownhouse_rented  State_Rank  Profession_Rank  \n",
       "0                1          24               10  \n",
       "1                1          24               10  \n",
       "2                1          24               10  \n",
       "3                1          24               10  \n",
       "4                1          24               10  "
      ]
     },
     "execution_count": 2,
     "metadata": {},
     "output_type": "execute_result"
    }
   ],
   "source": [
    "df = pd.read_csv('D:\\Data Science - Rakamin\\Bootcamp\\Final Project\\Data_Train_Model.csv')\n",
    "df.head()"
   ]
  },
  {
   "cell_type": "code",
   "execution_count": 3,
   "metadata": {},
   "outputs": [],
   "source": [
    "X = df.drop(columns=['Risk_Flag'])\n",
    "y = df['Risk_Flag']"
   ]
  },
  {
   "cell_type": "code",
   "execution_count": 4,
   "metadata": {},
   "outputs": [],
   "source": [
    "X_res, y_res = SMOTE(0.4, random_state=42).fit_resample(X, y)\n",
    "X_train, X_test, y_train, y_test = train_test_split(X_res, y_res, test_size = 0.3, random_state = 42)"
   ]
  },
  {
   "cell_type": "code",
   "execution_count": 5,
   "metadata": {},
   "outputs": [
    {
     "data": {
      "text/plain": [
       "0    221004\n",
       "1     30996\n",
       "Name: Risk_Flag, dtype: int64"
      ]
     },
     "execution_count": 5,
     "metadata": {},
     "output_type": "execute_result"
    }
   ],
   "source": [
    "y.value_counts()"
   ]
  },
  {
   "cell_type": "code",
   "execution_count": 6,
   "metadata": {},
   "outputs": [
    {
     "data": {
      "text/plain": [
       "0    221004\n",
       "1     88401\n",
       "Name: Risk_Flag, dtype: int64"
      ]
     },
     "execution_count": 6,
     "metadata": {},
     "output_type": "execute_result"
    }
   ],
   "source": [
    "y_res.value_counts()"
   ]
  },
  {
   "cell_type": "code",
   "execution_count": 7,
   "metadata": {},
   "outputs": [],
   "source": [
    "knn = KNeighborsClassifier(n_neighbors=5, p=1)\n",
    "dt = DecisionTreeClassifier(random_state=42)\n",
    "rf = RandomForestClassifier(n_estimators=50, random_state=42)"
   ]
  },
  {
   "cell_type": "code",
   "execution_count": 8,
   "metadata": {},
   "outputs": [],
   "source": [
    "def check_scoring(model):\n",
    "    model.fit(X_train, y_train)\n",
    "    y_pred = model.predict(X_test)\n",
    "    y_pred_train = model.predict(X_train)\n",
    "    print('Train score: ', model.score(X_train, y_train))\n",
    "    print('Test score: ', model.score(X_test, y_test))\n",
    "    print('Accuracy: ', accuracy_score(y_test, y_pred))\n",
    "    print('Precision :', precision_score(y_test, y_pred))\n",
    "    print('Recall: ', recall_score(y_test, y_pred))\n",
    "    print('AUC: ', roc_auc_score(y_test, y_pred))\n",
    "    print('F1: ', f1_score(y_test, y_pred))\n",
    "\n",
    "def show_feature_importance(model):\n",
    "    feat_importances = pd.Series(model.feature_importances_, index=X.columns)\n",
    "    ax = feat_importances.nlargest(25).plot(kind='barh', figsize=(10, 8))\n",
    "    ax.invert_yaxis()\n",
    "    plt.xlabel('score')\n",
    "    plt.ylabel('feature')\n",
    "    plt.title('feature importance score')\n",
    "\n",
    "def show_best_hyperparameter(model):\n",
    "    print(model.best_estimator_.get_params())"
   ]
  },
  {
   "cell_type": "code",
   "execution_count": 9,
   "metadata": {},
   "outputs": [
    {
     "name": "stdout",
     "output_type": "stream",
     "text": [
      "Train score:  0.8976650983687547\n",
      "Test score:  0.8766456228049385\n",
      "Accuracy:  0.8766456228049385\n",
      "Precision : 0.7526636484324472\n",
      "Recall:  0.8408822970146416\n",
      "AUC:  0.8658317418002694\n",
      "F1:  0.794331082052019\n"
     ]
    }
   ],
   "source": [
    "# K-Nearest Neighbors\n",
    "check_scoring(knn)"
   ]
  },
  {
   "cell_type": "code",
   "execution_count": 10,
   "metadata": {},
   "outputs": [
    {
     "name": "stdout",
     "output_type": "stream",
     "text": [
      "Train score:  0.9400922510076968\n",
      "Test score:  0.886664799293271\n",
      "Accuracy:  0.886664799293271\n",
      "Precision : 0.7489662573782393\n",
      "Recall:  0.9023768777334094\n",
      "AUC:  0.8914157150102253\n",
      "F1:  0.8185456050779633\n"
     ]
    }
   ],
   "source": [
    "# Decision Tree\n",
    "check_scoring(dt)"
   ]
  },
  {
   "cell_type": "code",
   "execution_count": 11,
   "metadata": {},
   "outputs": [
    {
     "name": "stdout",
     "output_type": "stream",
     "text": [
      "Train score:  0.9400737823374873\n",
      "Test score:  0.9071556312081188\n",
      "Accuracy:  0.9071556312081188\n",
      "Precision : 0.8016244070572979\n",
      "Recall:  0.8933257273245864\n",
      "AUC:  0.9029738351475547\n",
      "F1:  0.8449944242598655\n"
     ]
    }
   ],
   "source": [
    "# Random Forest\n",
    "check_scoring(rf)"
   ]
  },
  {
   "cell_type": "code",
   "execution_count": 12,
   "metadata": {},
   "outputs": [
    {
     "name": "stdout",
     "output_type": "stream",
     "text": [
      "{'bootstrap': True, 'ccp_alpha': 0.0, 'class_weight': None, 'criterion': 'gini', 'max_depth': 35, 'max_features': 'log2', 'max_leaf_nodes': None, 'max_samples': None, 'min_impurity_decrease': 0.0, 'min_samples_leaf': 1, 'min_samples_split': 2, 'min_weight_fraction_leaf': 0.0, 'n_estimators': 250, 'n_jobs': None, 'oob_score': False, 'random_state': None, 'verbose': 0, 'warm_start': False}\n",
      "Train score:  0.9400922510076968\n",
      "Test score:  0.9088147206481222\n",
      "Accuracy:  0.9088147206481222\n",
      "Precision : 0.8051894704412419\n",
      "Recall:  0.894542688724092\n",
      "AUC:  0.9044992367966965\n",
      "F1:  0.8475174749585646\n"
     ]
    }
   ],
   "source": [
    "hyperparams = dict(n_estimators = [50,100,150,200,250],\n",
    "                   max_depth = [25,30,35],\n",
    "                   min_samples_split = [2,5,10],\n",
    "                   min_samples_leaf = [1,2,4],\n",
    "                   max_features = ['auto', 'sqrt', 'log2'])\n",
    "\n",
    "rf = RandomForestClassifier()\n",
    "rs = RandomizedSearchCV(rf, hyperparams, cv=5, random_state=42)\n",
    "rs.fit(X_train, y_train)\n",
    "\n",
    "show_best_hyperparameter(rs)\n",
    "\n",
    "check_scoring(rs)"
   ]
  },
  {
   "cell_type": "code",
   "execution_count": 13,
   "metadata": {},
   "outputs": [
    {
     "data": {
      "image/png": "[encoded data removed]",
      "text/plain": [
       "<Figure size 720x576 with 1 Axes>"
      ]
     },
     "metadata": {
      "needs_background": "light"
     },
     "output_type": "display_data"
    }
   ],
   "source": [
    "show_feature_importance(rs.best_estimator_)"
   ]
  },
  {
   "cell_type": "code",
   "execution_count": 14,
   "metadata": {},
   "outputs": [
    {
     "data": {
      "text/html": [
       "<div>\n",
       "<style scoped>\n",
       "    .dataframe tbody tr th:only-of-type {\n",
       "        vertical-align: middle;\n",
       "    }\n",
       "\n",
       "    .dataframe tbody tr th {\n",
       "        vertical-align: top;\n",
       "    }\n",
       "\n",
       "    .dataframe thead th {\n",
       "        text-align: right;\n",
       "    }\n",
       "</style>\n",
       "<table border=\"1\" class=\"dataframe\">\n",
       "  <thead>\n",
       "    <tr style=\"text-align: right;\">\n",
       "      <th></th>\n",
       "      <th>Income</th>\n",
       "      <th>Age</th>\n",
       "      <th>Experience</th>\n",
       "      <th>CURRENT_HOUSE_YRS</th>\n",
       "      <th>State_Rank</th>\n",
       "      <th>Profession_Rank</th>\n",
       "    </tr>\n",
       "  </thead>\n",
       "  <tbody>\n",
       "    <tr>\n",
       "      <th>163256</th>\n",
       "      <td>0.270157</td>\n",
       "      <td>0.672414</td>\n",
       "      <td>0.20</td>\n",
       "      <td>0.50</td>\n",
       "      <td>26</td>\n",
       "      <td>34</td>\n",
       "    </tr>\n",
       "    <tr>\n",
       "      <th>50369</th>\n",
       "      <td>0.208475</td>\n",
       "      <td>0.500000</td>\n",
       "      <td>0.10</td>\n",
       "      <td>0.25</td>\n",
       "      <td>6</td>\n",
       "      <td>16</td>\n",
       "    </tr>\n",
       "    <tr>\n",
       "      <th>272608</th>\n",
       "      <td>0.975073</td>\n",
       "      <td>0.172414</td>\n",
       "      <td>0.15</td>\n",
       "      <td>0.00</td>\n",
       "      <td>13</td>\n",
       "      <td>22</td>\n",
       "    </tr>\n",
       "    <tr>\n",
       "      <th>63347</th>\n",
       "      <td>0.706980</td>\n",
       "      <td>0.655172</td>\n",
       "      <td>0.35</td>\n",
       "      <td>0.50</td>\n",
       "      <td>13</td>\n",
       "      <td>35</td>\n",
       "    </tr>\n",
       "    <tr>\n",
       "      <th>255287</th>\n",
       "      <td>0.006561</td>\n",
       "      <td>0.206897</td>\n",
       "      <td>0.85</td>\n",
       "      <td>0.25</td>\n",
       "      <td>18</td>\n",
       "      <td>1</td>\n",
       "    </tr>\n",
       "    <tr>\n",
       "      <th>...</th>\n",
       "      <td>...</td>\n",
       "      <td>...</td>\n",
       "      <td>...</td>\n",
       "      <td>...</td>\n",
       "      <td>...</td>\n",
       "      <td>...</td>\n",
       "    </tr>\n",
       "    <tr>\n",
       "      <th>32020</th>\n",
       "      <td>0.505064</td>\n",
       "      <td>0.620690</td>\n",
       "      <td>0.15</td>\n",
       "      <td>0.50</td>\n",
       "      <td>10</td>\n",
       "      <td>38</td>\n",
       "    </tr>\n",
       "    <tr>\n",
       "      <th>41226</th>\n",
       "      <td>0.763661</td>\n",
       "      <td>0.431034</td>\n",
       "      <td>0.70</td>\n",
       "      <td>0.25</td>\n",
       "      <td>12</td>\n",
       "      <td>42</td>\n",
       "    </tr>\n",
       "    <tr>\n",
       "      <th>27188</th>\n",
       "      <td>0.717012</td>\n",
       "      <td>0.258621</td>\n",
       "      <td>0.80</td>\n",
       "      <td>0.75</td>\n",
       "      <td>10</td>\n",
       "      <td>9</td>\n",
       "    </tr>\n",
       "    <tr>\n",
       "      <th>94795</th>\n",
       "      <td>0.131866</td>\n",
       "      <td>0.068966</td>\n",
       "      <td>0.35</td>\n",
       "      <td>1.00</td>\n",
       "      <td>17</td>\n",
       "      <td>15</td>\n",
       "    </tr>\n",
       "    <tr>\n",
       "      <th>3842</th>\n",
       "      <td>0.553978</td>\n",
       "      <td>0.896552</td>\n",
       "      <td>0.20</td>\n",
       "      <td>0.50</td>\n",
       "      <td>13</td>\n",
       "      <td>10</td>\n",
       "    </tr>\n",
       "  </tbody>\n",
       "</table>\n",
       "<p>92822 rows × 6 columns</p>\n",
       "</div>"
      ],
      "text/plain": [
       "          Income       Age  Experience  CURRENT_HOUSE_YRS  State_Rank  \\\n",
       "163256  0.270157  0.672414        0.20               0.50          26   \n",
       "50369   0.208475  0.500000        0.10               0.25           6   \n",
       "272608  0.975073  0.172414        0.15               0.00          13   \n",
       "63347   0.706980  0.655172        0.35               0.50          13   \n",
       "255287  0.006561  0.206897        0.85               0.25          18   \n",
       "...          ...       ...         ...                ...         ...   \n",
       "32020   0.505064  0.620690        0.15               0.50          10   \n",
       "41226   0.763661  0.431034        0.70               0.25          12   \n",
       "27188   0.717012  0.258621        0.80               0.75          10   \n",
       "94795   0.131866  0.068966        0.35               1.00          17   \n",
       "3842    0.553978  0.896552        0.20               0.50          13   \n",
       "\n",
       "        Profession_Rank  \n",
       "163256               34  \n",
       "50369                16  \n",
       "272608               22  \n",
       "63347                35  \n",
       "255287                1  \n",
       "...                 ...  \n",
       "32020                38  \n",
       "41226                42  \n",
       "27188                 9  \n",
       "94795                15  \n",
       "3842                 10  \n",
       "\n",
       "[92822 rows x 6 columns]"
      ]
     },
     "execution_count": 14,
     "metadata": {},
     "output_type": "execute_result"
    }
   ],
   "source": [
    "# Drop unimportant variable\n",
    "X_train.drop(columns=['Car_Ownership','Married/Single','ownhouse_rented','ownhouse_owned','ownhouse_norent_noown'])\n",
    "X_test.drop(columns=['Car_Ownership','Married/Single','ownhouse_rented','ownhouse_owned','ownhouse_norent_noown'])"
   ]
  },
  {
   "cell_type": "code",
   "execution_count": 15,
   "metadata": {},
   "outputs": [
    {
     "name": "stdout",
     "output_type": "stream",
     "text": [
      "Train score:  0.9400922510076968\n",
      "Test score:  0.9088362672642262\n",
      "Accuracy:  0.9088362672642262\n",
      "Precision : 0.8048271853953711\n",
      "Recall:  0.895303289598783\n",
      "AUC:  0.9047442538152797\n",
      "F1:  0.8476577971411082\n"
     ]
    }
   ],
   "source": [
    "rs2 = RandomizedSearchCV(rf, hyperparams, cv=5, random_state=42)\n",
    "rs2.fit(X_train, y_train)\n",
    "\n",
    "check_scoring(rs2)"
   ]
  },
  {
   "cell_type": "code",
   "execution_count": 16,
   "metadata": {},
   "outputs": [
    {
     "name": "stdout",
     "output_type": "stream",
     "text": [
      "[[60818  5709]\n",
      " [ 2753 23542]]\n"
     ]
    }
   ],
   "source": [
    "#Generate the confusion matrix\n",
    "y_pred = rs2.predict(X_test)\n",
    "cf_matrix = confusion_matrix(y_test, y_pred)\n",
    "print(cf_matrix)"
   ]
  },
  {
   "cell_type": "code",
   "execution_count": 17,
   "metadata": {},
   "outputs": [
    {
     "data": {
      "image/png": "[encoded data removed]",
      "text/plain": [
       "<Figure size 432x288 with 2 Axes>"
      ]
     },
     "metadata": {
      "needs_background": "light"
     },
     "output_type": "display_data"
    }
   ],
   "source": [
    "ax = sns.heatmap(cf_matrix, annot=True, cmap='Blues')\n",
    "\n",
    "ax.set_title('Seaborn Confusion Matrix with labels\\n\\n');\n",
    "ax.set_xlabel('\\nPredicted Values')\n",
    "ax.set_ylabel('Actual Values ');\n",
    "\n",
    "## Ticket labels - List must be in alphabetical order\n",
    "ax.xaxis.set_ticklabels(['False','True'])\n",
    "ax.yaxis.set_ticklabels(['False','True'])\n",
    "\n",
    "## Display the visualization of the Confusion Matrix.\n",
    "plt.show()"
   ]
  }
 ],
 "metadata": {
  "interpreter": {
   "hash": "213524bb45a1aeaf737b1d8c77d7b8db5d425938d9dffc5f4bc6fe6dd3324700"
  },
  "kernelspec": {
   "display_name": "Python 3.10.1 64-bit",
   "language": "python",
   "name": "python3"
  },
  "language_info": {
   "codemirror_mode": {
    "name": "ipython",
    "version": 3
   },
   "file_extension": ".py",
   "mimetype": "text/x-python",
   "name": "python",
   "nbconvert_exporter": "python",
   "pygments_lexer": "ipython3",
   "version": "3.10.1"
  },
  "orig_nbformat": 4
 },
 "nbformat": 4,
 "nbformat_minor": 2
}
